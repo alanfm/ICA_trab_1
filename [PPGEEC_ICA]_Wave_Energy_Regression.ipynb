{
  "cells": [
    {
      "cell_type": "markdown",
      "id": "e2ac68fe-cc93-4f8d-9598-b578fbd855fe",
      "metadata": {
        "id": "e2ac68fe-cc93-4f8d-9598-b578fbd855fe"
      },
      "source": [
        "### **Graduate Program in Electrical and Computer Engineering**\n",
        "#### Federal University of Ceará - Sobral Campus\n",
        "##### Researcher 1: Marcelo Estevão da Silva - Registration: 561821\n",
        "##### Researcher 2: Raimundo Alan Freire Moreira - Resgistration: 559987"
      ]
    },
    {
      "cell_type": "code",
      "execution_count": 21,
      "id": "0g6cwvpAxFh3",
      "metadata": {
        "colab": {
          "base_uri": "https://localhost:8080/"
        },
        "id": "0g6cwvpAxFh3",
        "outputId": "dd5ae87c-4812-4dc5-d044-0542a96990c0"
      },
      "outputs": [],
      "source": [
        "# from google.colab import drive\n",
        "# drive.mount('/content/drive')"
      ]
    },
    {
      "cell_type": "code",
      "execution_count": 86,
      "id": "d2b1875b-3623-4c85-917d-edd126818b15",
      "metadata": {
        "id": "d2b1875b-3623-4c85-917d-edd126818b15",
        "tags": []
      },
      "outputs": [],
      "source": [
        "# importing the libraries\n",
        "\n",
        "import pandas as pd\n",
        "import numpy as np\n",
        "import seaborn as sns\n",
        "import matplotlib.pyplot as plt\n",
        "import tensorflow as tf\n",
        "import time\n",
        "import os\n",
        "from statistics import mean\n",
        "from sklearn.neural_network import MLPRegressor\n",
        "from sklearn.model_selection import train_test_split\n",
        "from sklearn.metrics import mean_squared_error\n",
        "from sklearn.metrics import mean_absolute_error\n",
        "from sklearn.metrics import r2_score\n",
        "from sklearn.preprocessing import StandardScaler"
      ]
    },
    {
      "cell_type": "markdown",
      "id": "5947b094-8d99-4c89-9677-1a48b5cec3ef",
      "metadata": {
        "id": "5947b094-8d99-4c89-9677-1a48b5cec3ef"
      },
      "source": [
        "#### Data Aquisition"
      ]
    },
    {
      "cell_type": "code",
      "execution_count": 23,
      "id": "9e10b396-4e79-41d0-848e-9007b9f60cd8",
      "metadata": {
        "colab": {
          "base_uri": "https://localhost:8080/",
          "height": 256
        },
        "id": "9e10b396-4e79-41d0-848e-9007b9f60cd8",
        "outputId": "07f25672-9dbd-4008-b81c-0ccc9ccb4ee7",
        "tags": []
      },
      "outputs": [
        {
          "data": {
            "text/html": [
              "<div>\n",
              "<style scoped>\n",
              "    .dataframe tbody tr th:only-of-type {\n",
              "        vertical-align: middle;\n",
              "    }\n",
              "\n",
              "    .dataframe tbody tr th {\n",
              "        vertical-align: top;\n",
              "    }\n",
              "\n",
              "    .dataframe thead th {\n",
              "        text-align: right;\n",
              "    }\n",
              "</style>\n",
              "<table border=\"1\" class=\"dataframe\">\n",
              "  <thead>\n",
              "    <tr style=\"text-align: right;\">\n",
              "      <th></th>\n",
              "      <th>X1</th>\n",
              "      <th>Y1</th>\n",
              "      <th>X2</th>\n",
              "      <th>Y2</th>\n",
              "      <th>X3</th>\n",
              "      <th>Y3</th>\n",
              "      <th>X4</th>\n",
              "      <th>Y4</th>\n",
              "      <th>X5</th>\n",
              "      <th>Y5</th>\n",
              "      <th>...</th>\n",
              "      <th>Power42</th>\n",
              "      <th>Power43</th>\n",
              "      <th>Power44</th>\n",
              "      <th>Power45</th>\n",
              "      <th>Power46</th>\n",
              "      <th>Power47</th>\n",
              "      <th>Power48</th>\n",
              "      <th>Power49</th>\n",
              "      <th>qW</th>\n",
              "      <th>Total_Power</th>\n",
              "    </tr>\n",
              "  </thead>\n",
              "  <tbody>\n",
              "    <tr>\n",
              "      <th>0</th>\n",
              "      <td>600.0</td>\n",
              "      <td>0.0</td>\n",
              "      <td>546.16</td>\n",
              "      <td>37.50</td>\n",
              "      <td>489.79</td>\n",
              "      <td>74.88</td>\n",
              "      <td>432.47</td>\n",
              "      <td>112.05</td>\n",
              "      <td>650.0</td>\n",
              "      <td>0.0</td>\n",
              "      <td>...</td>\n",
              "      <td>88867.92</td>\n",
              "      <td>98844.30</td>\n",
              "      <td>101283.59</td>\n",
              "      <td>98934.63</td>\n",
              "      <td>101624.58</td>\n",
              "      <td>100915.03</td>\n",
              "      <td>99625.68</td>\n",
              "      <td>96704.34</td>\n",
              "      <td>0.87</td>\n",
              "      <td>4102461.43</td>\n",
              "    </tr>\n",
              "    <tr>\n",
              "      <th>1</th>\n",
              "      <td>593.0</td>\n",
              "      <td>12.0</td>\n",
              "      <td>546.16</td>\n",
              "      <td>37.50</td>\n",
              "      <td>489.79</td>\n",
              "      <td>74.88</td>\n",
              "      <td>432.47</td>\n",
              "      <td>112.05</td>\n",
              "      <td>644.0</td>\n",
              "      <td>8.0</td>\n",
              "      <td>...</td>\n",
              "      <td>88896.55</td>\n",
              "      <td>98759.79</td>\n",
              "      <td>101346.07</td>\n",
              "      <td>98873.59</td>\n",
              "      <td>101629.01</td>\n",
              "      <td>100934.53</td>\n",
              "      <td>99606.13</td>\n",
              "      <td>96718.39</td>\n",
              "      <td>0.87</td>\n",
              "      <td>4103361.41</td>\n",
              "    </tr>\n",
              "    <tr>\n",
              "      <th>2</th>\n",
              "      <td>593.0</td>\n",
              "      <td>12.0</td>\n",
              "      <td>546.16</td>\n",
              "      <td>37.50</td>\n",
              "      <td>489.79</td>\n",
              "      <td>74.88</td>\n",
              "      <td>432.47</td>\n",
              "      <td>112.05</td>\n",
              "      <td>644.0</td>\n",
              "      <td>8.0</td>\n",
              "      <td>...</td>\n",
              "      <td>88919.83</td>\n",
              "      <td>98746.68</td>\n",
              "      <td>101346.15</td>\n",
              "      <td>98875.57</td>\n",
              "      <td>101618.32</td>\n",
              "      <td>100941.00</td>\n",
              "      <td>99611.35</td>\n",
              "      <td>96719.14</td>\n",
              "      <td>0.87</td>\n",
              "      <td>4103680.44</td>\n",
              "    </tr>\n",
              "    <tr>\n",
              "      <th>3</th>\n",
              "      <td>593.0</td>\n",
              "      <td>12.0</td>\n",
              "      <td>546.16</td>\n",
              "      <td>37.50</td>\n",
              "      <td>489.79</td>\n",
              "      <td>74.88</td>\n",
              "      <td>432.47</td>\n",
              "      <td>112.05</td>\n",
              "      <td>644.0</td>\n",
              "      <td>8.0</td>\n",
              "      <td>...</td>\n",
              "      <td>88855.14</td>\n",
              "      <td>98760.96</td>\n",
              "      <td>101338.59</td>\n",
              "      <td>98971.58</td>\n",
              "      <td>101632.28</td>\n",
              "      <td>100943.59</td>\n",
              "      <td>99589.25</td>\n",
              "      <td>96735.04</td>\n",
              "      <td>0.87</td>\n",
              "      <td>4105661.06</td>\n",
              "    </tr>\n",
              "    <tr>\n",
              "      <th>4</th>\n",
              "      <td>200.0</td>\n",
              "      <td>0.0</td>\n",
              "      <td>146.17</td>\n",
              "      <td>37.53</td>\n",
              "      <td>89.76</td>\n",
              "      <td>74.93</td>\n",
              "      <td>32.40</td>\n",
              "      <td>112.18</td>\n",
              "      <td>400.0</td>\n",
              "      <td>0.0</td>\n",
              "      <td>...</td>\n",
              "      <td>88005.30</td>\n",
              "      <td>98630.24</td>\n",
              "      <td>100432.73</td>\n",
              "      <td>98803.01</td>\n",
              "      <td>101064.48</td>\n",
              "      <td>100948.38</td>\n",
              "      <td>99028.87</td>\n",
              "      <td>96286.71</td>\n",
              "      <td>0.79</td>\n",
              "      <td>3752648.77</td>\n",
              "    </tr>\n",
              "  </tbody>\n",
              "</table>\n",
              "<p>5 rows × 149 columns</p>\n",
              "</div>"
            ],
            "text/plain": [
              "      X1    Y1      X2     Y2      X3     Y3      X4      Y4     X5   Y5  ...  \\\n",
              "0  600.0   0.0  546.16  37.50  489.79  74.88  432.47  112.05  650.0  0.0  ...   \n",
              "1  593.0  12.0  546.16  37.50  489.79  74.88  432.47  112.05  644.0  8.0  ...   \n",
              "2  593.0  12.0  546.16  37.50  489.79  74.88  432.47  112.05  644.0  8.0  ...   \n",
              "3  593.0  12.0  546.16  37.50  489.79  74.88  432.47  112.05  644.0  8.0  ...   \n",
              "4  200.0   0.0  146.17  37.53   89.76  74.93   32.40  112.18  400.0  0.0  ...   \n",
              "\n",
              "    Power42   Power43    Power44   Power45    Power46    Power47   Power48  \\\n",
              "0  88867.92  98844.30  101283.59  98934.63  101624.58  100915.03  99625.68   \n",
              "1  88896.55  98759.79  101346.07  98873.59  101629.01  100934.53  99606.13   \n",
              "2  88919.83  98746.68  101346.15  98875.57  101618.32  100941.00  99611.35   \n",
              "3  88855.14  98760.96  101338.59  98971.58  101632.28  100943.59  99589.25   \n",
              "4  88005.30  98630.24  100432.73  98803.01  101064.48  100948.38  99028.87   \n",
              "\n",
              "    Power49    qW  Total_Power  \n",
              "0  96704.34  0.87   4102461.43  \n",
              "1  96718.39  0.87   4103361.41  \n",
              "2  96719.14  0.87   4103680.44  \n",
              "3  96735.04  0.87   4105661.06  \n",
              "4  96286.71  0.79   3752648.77  \n",
              "\n",
              "[5 rows x 149 columns]"
            ]
          },
          "execution_count": 23,
          "metadata": {},
          "output_type": "execute_result"
        }
      ],
      "source": [
        "# impoting the dataset\n",
        "\n",
        "dataset = pd.read_csv(\"https://raw.githubusercontent.com/alanfm/wec/main/WEC_Perth_49.csv\")\n",
        "dataset.head()"
      ]
    },
    {
      "cell_type": "code",
      "execution_count": 24,
      "id": "A8z1GMN0BFaS",
      "metadata": {
        "colab": {
          "base_uri": "https://localhost:8080/"
        },
        "id": "A8z1GMN0BFaS",
        "outputId": "c798def8-aeb2-4da9-d37e-8d6247a206cb"
      },
      "outputs": [
        {
          "data": {
            "text/plain": [
              "(36043, 149)"
            ]
          },
          "execution_count": 24,
          "metadata": {},
          "output_type": "execute_result"
        }
      ],
      "source": [
        "dataset.shape"
      ]
    },
    {
      "cell_type": "code",
      "execution_count": 25,
      "id": "dmSo0HaAA35p",
      "metadata": {
        "colab": {
          "base_uri": "https://localhost:8080/"
        },
        "id": "dmSo0HaAA35p",
        "outputId": "0272ee2e-07de-4cdd-bbf6-0b6b2ff58698"
      },
      "outputs": [
        {
          "name": "stdout",
          "output_type": "stream",
          "text": [
            "Lines: 36043\n",
            "Columns: 149\n"
          ]
        }
      ],
      "source": [
        "# datset lines and columns\n",
        "\n",
        "print(f'Lines: {dataset.shape[0]}')\n",
        "print(f'Columns: {dataset.shape[1]}')"
      ]
    },
    {
      "cell_type": "code",
      "execution_count": 26,
      "id": "60d2a76e-d1ae-448e-befd-16a2b76a7bab",
      "metadata": {
        "colab": {
          "base_uri": "https://localhost:8080/",
          "height": 256
        },
        "id": "60d2a76e-d1ae-448e-befd-16a2b76a7bab",
        "outputId": "11bad8a3-eb3e-4ffb-a846-aa23329a4134",
        "tags": []
      },
      "outputs": [
        {
          "data": {
            "text/html": [
              "<div>\n",
              "<style scoped>\n",
              "    .dataframe tbody tr th:only-of-type {\n",
              "        vertical-align: middle;\n",
              "    }\n",
              "\n",
              "    .dataframe tbody tr th {\n",
              "        vertical-align: top;\n",
              "    }\n",
              "\n",
              "    .dataframe thead th {\n",
              "        text-align: right;\n",
              "    }\n",
              "</style>\n",
              "<table border=\"1\" class=\"dataframe\">\n",
              "  <thead>\n",
              "    <tr style=\"text-align: right;\">\n",
              "      <th></th>\n",
              "      <th>X1</th>\n",
              "      <th>Y1</th>\n",
              "      <th>X2</th>\n",
              "      <th>Y2</th>\n",
              "      <th>X3</th>\n",
              "      <th>Y3</th>\n",
              "      <th>X4</th>\n",
              "      <th>Y4</th>\n",
              "      <th>X5</th>\n",
              "      <th>Y5</th>\n",
              "      <th>...</th>\n",
              "      <th>X45</th>\n",
              "      <th>Y45</th>\n",
              "      <th>X46</th>\n",
              "      <th>Y46</th>\n",
              "      <th>X47</th>\n",
              "      <th>Y47</th>\n",
              "      <th>X48</th>\n",
              "      <th>Y48</th>\n",
              "      <th>X49</th>\n",
              "      <th>Y49</th>\n",
              "    </tr>\n",
              "  </thead>\n",
              "  <tbody>\n",
              "    <tr>\n",
              "      <th>0</th>\n",
              "      <td>600.0</td>\n",
              "      <td>0.0</td>\n",
              "      <td>546.16</td>\n",
              "      <td>37.50</td>\n",
              "      <td>489.79</td>\n",
              "      <td>74.88</td>\n",
              "      <td>432.47</td>\n",
              "      <td>112.05</td>\n",
              "      <td>650.0</td>\n",
              "      <td>0.0</td>\n",
              "      <td>...</td>\n",
              "      <td>400.0</td>\n",
              "      <td>800.0</td>\n",
              "      <td>346.16</td>\n",
              "      <td>837.50</td>\n",
              "      <td>289.79</td>\n",
              "      <td>874.88</td>\n",
              "      <td>232.47</td>\n",
              "      <td>912.05</td>\n",
              "      <td>0.0</td>\n",
              "      <td>1010.0</td>\n",
              "    </tr>\n",
              "    <tr>\n",
              "      <th>1</th>\n",
              "      <td>593.0</td>\n",
              "      <td>12.0</td>\n",
              "      <td>546.16</td>\n",
              "      <td>37.50</td>\n",
              "      <td>489.79</td>\n",
              "      <td>74.88</td>\n",
              "      <td>432.47</td>\n",
              "      <td>112.05</td>\n",
              "      <td>644.0</td>\n",
              "      <td>8.0</td>\n",
              "      <td>...</td>\n",
              "      <td>400.0</td>\n",
              "      <td>800.0</td>\n",
              "      <td>346.16</td>\n",
              "      <td>837.50</td>\n",
              "      <td>289.79</td>\n",
              "      <td>874.88</td>\n",
              "      <td>232.47</td>\n",
              "      <td>912.05</td>\n",
              "      <td>0.0</td>\n",
              "      <td>1010.0</td>\n",
              "    </tr>\n",
              "    <tr>\n",
              "      <th>2</th>\n",
              "      <td>593.0</td>\n",
              "      <td>12.0</td>\n",
              "      <td>546.16</td>\n",
              "      <td>37.50</td>\n",
              "      <td>489.79</td>\n",
              "      <td>74.88</td>\n",
              "      <td>432.47</td>\n",
              "      <td>112.05</td>\n",
              "      <td>644.0</td>\n",
              "      <td>8.0</td>\n",
              "      <td>...</td>\n",
              "      <td>400.0</td>\n",
              "      <td>800.0</td>\n",
              "      <td>346.16</td>\n",
              "      <td>837.50</td>\n",
              "      <td>289.79</td>\n",
              "      <td>874.88</td>\n",
              "      <td>232.47</td>\n",
              "      <td>912.05</td>\n",
              "      <td>0.0</td>\n",
              "      <td>1010.0</td>\n",
              "    </tr>\n",
              "    <tr>\n",
              "      <th>3</th>\n",
              "      <td>593.0</td>\n",
              "      <td>12.0</td>\n",
              "      <td>546.16</td>\n",
              "      <td>37.50</td>\n",
              "      <td>489.79</td>\n",
              "      <td>74.88</td>\n",
              "      <td>432.47</td>\n",
              "      <td>112.05</td>\n",
              "      <td>644.0</td>\n",
              "      <td>8.0</td>\n",
              "      <td>...</td>\n",
              "      <td>400.0</td>\n",
              "      <td>800.0</td>\n",
              "      <td>346.16</td>\n",
              "      <td>837.50</td>\n",
              "      <td>289.79</td>\n",
              "      <td>874.88</td>\n",
              "      <td>232.47</td>\n",
              "      <td>912.05</td>\n",
              "      <td>0.0</td>\n",
              "      <td>1010.0</td>\n",
              "    </tr>\n",
              "    <tr>\n",
              "      <th>4</th>\n",
              "      <td>200.0</td>\n",
              "      <td>0.0</td>\n",
              "      <td>146.17</td>\n",
              "      <td>37.53</td>\n",
              "      <td>89.76</td>\n",
              "      <td>74.93</td>\n",
              "      <td>32.40</td>\n",
              "      <td>112.18</td>\n",
              "      <td>400.0</td>\n",
              "      <td>0.0</td>\n",
              "      <td>...</td>\n",
              "      <td>800.0</td>\n",
              "      <td>800.0</td>\n",
              "      <td>746.17</td>\n",
              "      <td>837.53</td>\n",
              "      <td>689.76</td>\n",
              "      <td>874.93</td>\n",
              "      <td>632.40</td>\n",
              "      <td>912.18</td>\n",
              "      <td>0.0</td>\n",
              "      <td>1010.0</td>\n",
              "    </tr>\n",
              "  </tbody>\n",
              "</table>\n",
              "<p>5 rows × 98 columns</p>\n",
              "</div>"
            ],
            "text/plain": [
              "      X1    Y1      X2     Y2      X3     Y3      X4      Y4     X5   Y5  ...  \\\n",
              "0  600.0   0.0  546.16  37.50  489.79  74.88  432.47  112.05  650.0  0.0  ...   \n",
              "1  593.0  12.0  546.16  37.50  489.79  74.88  432.47  112.05  644.0  8.0  ...   \n",
              "2  593.0  12.0  546.16  37.50  489.79  74.88  432.47  112.05  644.0  8.0  ...   \n",
              "3  593.0  12.0  546.16  37.50  489.79  74.88  432.47  112.05  644.0  8.0  ...   \n",
              "4  200.0   0.0  146.17  37.53   89.76  74.93   32.40  112.18  400.0  0.0  ...   \n",
              "\n",
              "     X45    Y45     X46     Y46     X47     Y47     X48     Y48  X49     Y49  \n",
              "0  400.0  800.0  346.16  837.50  289.79  874.88  232.47  912.05  0.0  1010.0  \n",
              "1  400.0  800.0  346.16  837.50  289.79  874.88  232.47  912.05  0.0  1010.0  \n",
              "2  400.0  800.0  346.16  837.50  289.79  874.88  232.47  912.05  0.0  1010.0  \n",
              "3  400.0  800.0  346.16  837.50  289.79  874.88  232.47  912.05  0.0  1010.0  \n",
              "4  800.0  800.0  746.17  837.53  689.76  874.93  632.40  912.18  0.0  1010.0  \n",
              "\n",
              "[5 rows x 98 columns]"
            ]
          },
          "execution_count": 26,
          "metadata": {},
          "output_type": "execute_result"
        }
      ],
      "source": [
        "# defining the X data\n",
        "\n",
        "X = dataset.iloc[:,0:98]\n",
        "X.head()"
      ]
    },
    {
      "cell_type": "code",
      "execution_count": 27,
      "id": "b7858977-3962-4431-a678-36c14a6d83e3",
      "metadata": {
        "colab": {
          "base_uri": "https://localhost:8080/"
        },
        "id": "b7858977-3962-4431-a678-36c14a6d83e3",
        "outputId": "9c8f7a24-f06f-4f92-f4fa-88b4dbb9b856",
        "tags": []
      },
      "outputs": [
        {
          "data": {
            "text/plain": [
              "0    4102461.43\n",
              "1    4103361.41\n",
              "2    4103680.44\n",
              "3    4105661.06\n",
              "4    3752648.77\n",
              "Name: Total_Power, dtype: float64"
            ]
          },
          "execution_count": 27,
          "metadata": {},
          "output_type": "execute_result"
        }
      ],
      "source": [
        "# defining the y data\n",
        "\n",
        "y = dataset.iloc[:,-1]\n",
        "y.head()"
      ]
    },
    {
      "cell_type": "code",
      "execution_count": 28,
      "id": "8157ca80-bf71-4776-a48a-155cd8c5a450",
      "metadata": {
        "colab": {
          "base_uri": "https://localhost:8080/"
        },
        "id": "8157ca80-bf71-4776-a48a-155cd8c5a450",
        "outputId": "bb5e603b-d8c5-4b89-ae50-0ee2547831e2",
        "tags": []
      },
      "outputs": [
        {
          "name": "stdout",
          "output_type": "stream",
          "text": [
            "Treinamento: 25230  ---  70.00%\n",
            "Teste: 10813  ---  30.00%\n"
          ]
        }
      ],
      "source": [
        "# dataframe to array\n",
        "X = X.values\n",
        "y = y.values\n",
        "\n",
        "\n",
        "# Normalization\n",
        "scaler_X = StandardScaler()\n",
        "X = scaler_X.fit_transform(X)\n",
        "scaler_y = StandardScaler()\n",
        "y = scaler_y.fit_transform(y.reshape(-1, 1))\n",
        "\n",
        "# division into train and teste\n",
        "X_train, X_test, y_train, y_test = train_test_split(X, y, test_size=0.3, random_state=0)\n",
        "\n",
        "print(f'Treinamento: {X_train.shape[0]}  ---  {(X_train.shape[0]/X.shape[0])*100:.2f}%')\n",
        "print(f'Teste: {X_test.shape[0]}  ---  {(X_test.shape[0]/X.shape[0])*100:.2f}%')"
      ]
    },
    {
      "cell_type": "markdown",
      "id": "8ce41c0e-33ca-4f16-b047-2215d6af67c7",
      "metadata": {
        "id": "8ce41c0e-33ca-4f16-b047-2215d6af67c7"
      },
      "source": [
        "### **Multilayer Perceptron - MLP**"
      ]
    },
    {
      "cell_type": "code",
      "execution_count": 29,
      "id": "93657d85-7251-4a1a-a3a2-1b69330df58c",
      "metadata": {
        "colab": {
          "base_uri": "https://localhost:8080/"
        },
        "id": "93657d85-7251-4a1a-a3a2-1b69330df58c",
        "outputId": "79e9d9fa-75f3-4013-a197-e3d2d7d5904d",
        "tags": []
      },
      "outputs": [
        {
          "name": "stdout",
          "output_type": "stream",
          "text": [
            "338/338 [==============================] - 0s 709us/step\n",
            "338/338 [==============================] - 0s 683us/step\n",
            "338/338 [==============================] - 0s 681us/step\n",
            "338/338 [==============================] - 0s 665us/step\n",
            "338/338 [==============================] - 0s 843us/step\n",
            "338/338 [==============================] - 0s 688us/step\n",
            "338/338 [==============================] - 0s 671us/step\n",
            "338/338 [==============================] - 0s 680us/step\n",
            "338/338 [==============================] - 0s 678us/step\n",
            "338/338 [==============================] - 0s 1ms/step\n",
            "338/338 [==============================] - 0s 685us/step\n",
            "338/338 [==============================] - 0s 677us/step\n",
            "338/338 [==============================] - 0s 680us/step\n",
            "338/338 [==============================] - 0s 677us/step\n",
            "338/338 [==============================] - 0s 663us/step\n",
            "338/338 [==============================] - 0s 662us/step\n",
            "338/338 [==============================] - 0s 669us/step\n",
            "338/338 [==============================] - 0s 659us/step\n",
            "338/338 [==============================] - 0s 668us/step\n",
            "338/338 [==============================] - 0s 668us/step\n",
            "338/338 [==============================] - 0s 641us/step\n",
            "338/338 [==============================] - 0s 639us/step\n",
            "338/338 [==============================] - 0s 644us/step\n",
            "338/338 [==============================] - 0s 638us/step\n",
            "338/338 [==============================] - 0s 635us/step\n",
            "338/338 [==============================] - 0s 644us/step\n",
            "338/338 [==============================] - 0s 641us/step\n",
            "338/338 [==============================] - 0s 641us/step\n",
            "338/338 [==============================] - 0s 638us/step\n",
            "338/338 [==============================] - 0s 638us/step\n",
            "338/338 [==============================] - 0s 650us/step\n",
            "338/338 [==============================] - 0s 649us/step\n",
            "338/338 [==============================] - 0s 665us/step\n",
            "338/338 [==============================] - 0s 647us/step\n",
            "338/338 [==============================] - 0s 653us/step\n",
            "338/338 [==============================] - 0s 656us/step\n",
            "338/338 [==============================] - 0s 659us/step\n",
            "338/338 [==============================] - 0s 668us/step\n",
            "338/338 [==============================] - 0s 653us/step\n",
            "338/338 [==============================] - 0s 700us/step\n"
          ]
        }
      ],
      "source": [
        "# Funções para teste\n",
        "functions = ['sigmoid','tanh','linear','relu']\n",
        "\n",
        "# Metricas avaliadas\n",
        "mse_values_mlp = {functions[i]: [] for i in range(0, len(functions))}\n",
        "mse_mlp = {functions[i]: [] for i in range(0, len(functions))}\n",
        "rmse_mlp = {functions[i]: [] for i in range(0, len(functions))}\n",
        "mae_mlp = {functions[i]: [] for i in range(0, len(functions))}\n",
        "r2_mlp = {functions[i]: [] for i in range(0, len(functions))}\n",
        "time_mlp = {functions[i]: [] for i in range(0, len(functions))}\n",
        "\n",
        "# verificar 10 vezes e pegar melhor e a media (desvio padrão)\n",
        "for i in functions:\n",
        "  for _ in range(10):\n",
        "      start_time_mlp = time.time()\n",
        "\n",
        "      # defining the model\n",
        "      model = tf.keras.Sequential([\n",
        "          tf.keras.layers.Dense(units=50, activation=i), # hidden layer\n",
        "          tf.keras.layers.Dense(units=1, activation=i) # output layer\n",
        "      ])\n",
        "\n",
        "      # hyperparameters\n",
        "      learning_rate = 0.01\n",
        "      optimizer = tf.keras.optimizers.SGD(learning_rate=learning_rate)\n",
        "      loss_function = 'mean_squared_error'\n",
        "      model.compile(optimizer=optimizer,\n",
        "                  loss=loss_function)\n",
        "\n",
        "      # training\n",
        "      num_epochs = 50\n",
        "      batch_size = 32\n",
        "      history = model.fit(X_train,\n",
        "                          y_train,\n",
        "                          epochs=num_epochs,\n",
        "                          batch_size=None,\n",
        "                          verbose=0)\n",
        "\n",
        "      end_time_mlp = time.time()\n",
        "\n",
        "\n",
        "\n",
        "      # predictions\n",
        "      y_pred = model.predict(X_test)\n",
        "\n",
        "      # evaluation\n",
        "      mse_mlp[i].append(mean_squared_error(y_test, y_pred))\n",
        "      rmse_mlp[i].append(np.sqrt(mean_squared_error(y_test, y_pred)))\n",
        "      mae_mlp[i].append(mean_absolute_error(y_test, y_pred))\n",
        "      r2_mlp[i].append(r2_score(y_test, y_pred))\n",
        "\n",
        "\n",
        "      # getting MSE value for each epoch\n",
        "      mse_values_mlp[i].append(history.history['loss'])\n",
        "\n",
        "      # Run time\n",
        "      execution_time_mlp = end_time_mlp - start_time_mlp\n",
        "      time_mlp[i].append(execution_time_mlp)"
      ]
    },
    {
      "cell_type": "code",
      "execution_count": 30,
      "id": "XYbGynMDPEtY",
      "metadata": {
        "colab": {
          "base_uri": "https://localhost:8080/",
          "height": 245
        },
        "id": "XYbGynMDPEtY",
        "outputId": "45811fa9-1e03-4999-c359-b8b5e0f1c5f2"
      },
      "outputs": [],
      "source": [
        "os.makedirs('results/mlp/func', exist_ok=True)\n",
        "\n",
        "mse_values_mlp_data = pd.DataFrame.from_dict(mse_mlp)\n",
        "mse_values_mlp_data.head()\n",
        "mse_values_mlp_data.to_csv('results/mlp/func/mse_values.csv')\n",
        "\n",
        "mse_mlp_data = pd.DataFrame.from_dict(mse_mlp)\n",
        "mse_mlp_data.head()\n",
        "mse_mlp_data.to_csv('results/mlp/func/mse.csv')\n",
        "\n",
        "rmse_mlp_data = pd.DataFrame.from_dict(rmse_mlp)\n",
        "rmse_mlp_data.head()\n",
        "rmse_mlp_data.to_csv('results/mlp/func/rmse.csv')\n",
        "\n",
        "mae_mlp_data = pd.DataFrame.from_dict(mae_mlp)\n",
        "mae_mlp_data.head()\n",
        "mae_mlp_data.to_csv('results/mlp/func/mae.csv')\n",
        "\n",
        "r2_mlp_data = pd.DataFrame.from_dict(r2_mlp)\n",
        "r2_mlp_data.head()\n",
        "r2_mlp_data.to_csv('results/mlp/func/r2.csv')\n",
        "\n",
        "time_mlp_data = pd.DataFrame.from_dict(time_mlp)\n",
        "time_mlp_data.head()\n",
        "time_mlp_data.to_csv('results/mlp/func/time.csv')"
      ]
    },
    {
      "cell_type": "code",
      "execution_count": 87,
      "id": "T1b319aV1WRa",
      "metadata": {
        "colab": {
          "base_uri": "https://localhost:8080/"
        },
        "id": "T1b319aV1WRa",
        "outputId": "bc9dbc87-a9f6-4b61-a526-7836180b0e58"
      },
      "outputs": [
        {
          "name": "stdout",
          "output_type": "stream",
          "text": [
            "Média MSE: 0.5848491721217454 função (sigmoid)\n",
            "Média MSE: 0.1423930803992943 função (tanh)\n",
            "Média MSE: 0.17121112081501974 função (linear)\n",
            "Média MSE: 0.5567624143245715 função (relu)\n",
            "============================================================\n",
            "Média RMSE: 0.7647542801160596 função (sigmoid)\n",
            "Média RMSE: 0.3773448655212434 função (tanh)\n",
            "Média RMSE: 0.4137737057746416 função (linear)\n",
            "Média RMSE: 0.7461130367342704 função (relu)\n",
            "============================================================\n",
            "Média MAE: 0.5487407331676424 função (sigmoid)\n",
            "Média MAE: 0.23746907100470158 função (tanh)\n",
            "Média MAE: 0.3043670372771887 função (linear)\n",
            "Média MAE: 0.4815998449639955 função (relu)\n",
            "============================================================\n",
            "Média R²: 0.4203910137586816 função (sigmoid)\n",
            "Média R²: 0.8588827463350959 função (tanh)\n",
            "Média R²: 0.830322912471908 função (linear)\n",
            "Média R²: 0.44822611721717903 função (relu)\n",
            "============================================================\n",
            "Time: 28.105855417251586 função (sigmoid)\n",
            "Time: 27.705085897445677 função (tanh)\n",
            "Time: 27.63642575740814 função (linear)\n",
            "Time: 27.57229733467102 função (relu)\n"
          ]
        }
      ],
      "source": [
        "for u in functions:\n",
        "    print(f'Média MSE: {mean(mse_mlp[u])} função ({u})')\n",
        "print(\"============================================================\")\n",
        "for u in functions:\n",
        "    print(f'Média RMSE: {mean(rmse_mlp[u])} função ({u})')\n",
        "print(\"============================================================\")\n",
        "for u in functions:\n",
        "    print(f'Média MAE: {mean(mae_mlp[u])} função ({u})')\n",
        "print(\"============================================================\")\n",
        "for u in functions:\n",
        "    print(f'Média R²: {mean(r2_mlp[u])} função ({u})')\n",
        "print(\"============================================================\")\n",
        "for u in functions:\n",
        "    print(f'Time: {mean(time_mlp[u])} função ({u})')"
      ]
    },
    {
      "cell_type": "code",
      "execution_count": 32,
      "id": "fSiof3NSQaoF",
      "metadata": {
        "colab": {
          "base_uri": "https://localhost:8080/"
        },
        "id": "fSiof3NSQaoF",
        "outputId": "b3d6200c-1354-44f8-f79b-8378749f56ba"
      },
      "outputs": [
        {
          "name": "stdout",
          "output_type": "stream",
          "text": [
            "Melhor função: tanh com valor do MSE: 0.12822160124778748\n"
          ]
        }
      ],
      "source": [
        "# Pegar menor valor e definir qual foi a melhor função\n",
        "\n",
        "tmp_1 = [min(valores) for valores in mse_values_mlp.values()]\n",
        "tmp_2 = [min(valores) for valores in tmp_1]\n",
        "\n",
        "print(f'Melhor função: {functions[tmp_2.index(min(tmp_2))]} com valor do MSE: {min(tmp_2)}')"
      ]
    },
    {
      "cell_type": "code",
      "execution_count": 33,
      "id": "nM3-_ZI0oXkb",
      "metadata": {
        "colab": {
          "base_uri": "https://localhost:8080/",
          "height": 338
        },
        "id": "nM3-_ZI0oXkb",
        "outputId": "d5524ec2-1b79-4d55-93c3-56f32dabdc61"
      },
      "outputs": [
        {
          "data": {
            "image/png": "[encoded data removed]",
            "text/plain": [
              "<Figure size 600x300 with 1 Axes>"
            ]
          },
          "metadata": {},
          "output_type": "display_data"
        }
      ],
      "source": [
        "# getting MSE value for each epoch\n",
        "plt.figure(figsize=(6, 3))\n",
        "\n",
        "x = range(1, len(mse_values_mlp['sigmoid'][0]) + 1)\n",
        "\n",
        "y1 = mse_values_mlp['sigmoid'][0]\n",
        "y2 = mse_values_mlp['tanh'][0]\n",
        "y3 = mse_values_mlp['linear'][0]\n",
        "y4 = mse_values_mlp['relu'][0]\n",
        "\n",
        "\n",
        "plt.plot(x, y1, label='sigmoid', marker='+')\n",
        "plt.plot(x, y2, label='tanh', marker='o')\n",
        "plt.plot(x, y3, label='linear', marker='x')\n",
        "plt.plot(x, y4, label='relu', marker='*')\n",
        "\n",
        "\n",
        "plt.legend(loc='upper right')\n",
        "\n",
        "plt.xlabel('Época')\n",
        "plt.ylabel('MSE')\n",
        "\n",
        "plt.title('Mean Squared Error (MSE) por Época')\n",
        "plt.grid(True)\n",
        "plt.show()"
      ]
    },
    {
      "cell_type": "code",
      "execution_count": 34,
      "id": "zeyAg6806fO6",
      "metadata": {
        "colab": {
          "base_uri": "https://localhost:8080/",
          "height": 333
        },
        "id": "zeyAg6806fO6",
        "outputId": "2b7a326e-4f00-4b46-8f89-3aa09135cc2f"
      },
      "outputs": [
        {
          "data": {
            "image/png": "[encoded data removed]",
            "text/plain": [
              "<Figure size 600x300 with 1 Axes>"
            ]
          },
          "metadata": {},
          "output_type": "display_data"
        }
      ],
      "source": [
        "plt.figure(figsize=(6, 3))\n",
        "\n",
        "time_mlp_min = [min(values) for values in time_mlp.values()]\n",
        "\n",
        "plt.bar(functions, time_mlp_min, color='blue')\n",
        "\n",
        "plt.xlabel('Funções')\n",
        "plt.ylabel('Tempo (s)')\n",
        "plt.title('Tempo por Função de Ativação')\n",
        "#plt.ylim(75, 150)\n",
        "\n",
        "plt.show()"
      ]
    },
    {
      "cell_type": "code",
      "execution_count": 35,
      "id": "ChGsu4bDGze1",
      "metadata": {
        "colab": {
          "base_uri": "https://localhost:8080/"
        },
        "id": "ChGsu4bDGze1",
        "outputId": "db02e0fb-667c-401d-93c0-cc6995c3a2b4"
      },
      "outputs": [
        {
          "data": {
            "text/plain": [
              "[27.64692211151123, 27.30924963951111, 26.94819474220276, 27.04451298713684]"
            ]
          },
          "execution_count": 35,
          "metadata": {},
          "output_type": "execute_result"
        }
      ],
      "source": [
        "time_mlp_min"
      ]
    },
    {
      "cell_type": "code",
      "execution_count": 107,
      "id": "8052c401-0068-43cb-9aa6-92f5c8ca73b9",
      "metadata": {
        "colab": {
          "base_uri": "https://localhost:8080/"
        },
        "id": "8052c401-0068-43cb-9aa6-92f5c8ca73b9",
        "outputId": "06de8651-b8c7-4a3f-e9b5-cc3c872389da",
        "tags": []
      },
      "outputs": [
        {
          "name": "stdout",
          "output_type": "stream",
          "text": [
            "1\n",
            "338/338 [==============================] - 0s 736us/step\n",
            "2\n",
            "338/338 [==============================] - 0s 693us/step\n",
            "3\n",
            "338/338 [==============================] - 0s 703us/step\n",
            "4\n",
            "338/338 [==============================] - 0s 700us/step\n",
            "5\n",
            "338/338 [==============================] - 0s 721us/step\n",
            "6\n",
            "338/338 [==============================] - 0s 696us/step\n",
            "7\n",
            "338/338 [==============================] - 0s 694us/step\n",
            "8\n",
            "338/338 [==============================] - 0s 716us/step\n",
            "9\n",
            "338/338 [==============================] - 0s 777us/step\n",
            "10\n",
            "338/338 [==============================] - 0s 783us/step\n",
            "11\n",
            "338/338 [==============================] - 0s 1ms/step\n",
            "12\n",
            "338/338 [==============================] - 0s 706us/step\n",
            "13\n",
            "338/338 [==============================] - 0s 718us/step\n",
            "14\n",
            "338/338 [==============================] - 0s 685us/step\n",
            "15\n",
            "338/338 [==============================] - 0s 712us/step\n",
            "16\n",
            "338/338 [==============================] - 0s 700us/step\n",
            "17\n",
            "338/338 [==============================] - 0s 697us/step\n",
            "18\n",
            "338/338 [==============================] - 0s 699us/step\n",
            "19\n",
            "338/338 [==============================] - 0s 732us/step\n",
            "20\n",
            "338/338 [==============================] - 0s 739us/step\n",
            "21\n",
            "338/338 [==============================] - 0s 714us/step\n",
            "22\n",
            "338/338 [==============================] - 0s 718us/step\n",
            "23\n",
            "338/338 [==============================] - 0s 678us/step\n",
            "24\n",
            "338/338 [==============================] - 0s 673us/step\n",
            "25\n",
            "338/338 [==============================] - 0s 671us/step\n",
            "26\n",
            "338/338 [==============================] - 0s 674us/step\n",
            "27\n",
            "338/338 [==============================] - 0s 668us/step\n",
            "28\n",
            "338/338 [==============================] - 0s 665us/step\n",
            "29\n",
            "338/338 [==============================] - 0s 935us/step\n",
            "30\n",
            "338/338 [==============================] - 0s 680us/step\n",
            "31\n",
            "338/338 [==============================] - 0s 683us/step\n",
            "32\n",
            "338/338 [==============================] - 0s 674us/step\n",
            "33\n",
            "338/338 [==============================] - 0s 677us/step\n",
            "34\n",
            "338/338 [==============================] - 0s 688us/step\n",
            "35\n",
            "338/338 [==============================] - 0s 674us/step\n",
            "36\n",
            "338/338 [==============================] - 0s 665us/step\n",
            "37\n",
            "338/338 [==============================] - 0s 724us/step\n",
            "38\n",
            "338/338 [==============================] - 0s 947us/step\n",
            "39\n",
            "338/338 [==============================] - 0s 681us/step\n",
            "40\n",
            "338/338 [==============================] - 0s 674us/step\n",
            "41\n",
            "338/338 [==============================] - 0s 676us/step\n",
            "42\n",
            "338/338 [==============================] - 0s 791us/step\n",
            "43\n",
            "338/338 [==============================] - 0s 688us/step\n",
            "44\n",
            "338/338 [==============================] - 0s 763us/step\n",
            "45\n",
            "338/338 [==============================] - 0s 677us/step\n",
            "46\n",
            "338/338 [==============================] - 0s 697us/step\n",
            "47\n",
            "338/338 [==============================] - 0s 684us/step\n",
            "48\n",
            "338/338 [==============================] - 0s 682us/step\n",
            "49\n",
            "338/338 [==============================] - 0s 685us/step\n",
            "50\n",
            "338/338 [==============================] - 0s 685us/step\n",
            "51\n",
            "338/338 [==============================] - 0s 688us/step\n",
            "52\n",
            "338/338 [==============================] - 0s 688us/step\n",
            "53\n",
            "338/338 [==============================] - 0s 690us/step\n",
            "54\n",
            "338/338 [==============================] - 0s 694us/step\n",
            "55\n",
            "338/338 [==============================] - 0s 682us/step\n",
            "56\n",
            "338/338 [==============================] - 0s 688us/step\n",
            "57\n",
            "338/338 [==============================] - 0s 703us/step\n",
            "58\n",
            "338/338 [==============================] - 0s 688us/step\n",
            "59\n",
            "338/338 [==============================] - 0s 697us/step\n",
            "60\n",
            "338/338 [==============================] - 0s 700us/step\n",
            "61\n",
            "338/338 [==============================] - 0s 739us/step\n",
            "62\n",
            "338/338 [==============================] - 0s 721us/step\n",
            "63\n",
            "338/338 [==============================] - 0s 700us/step\n",
            "64\n",
            "338/338 [==============================] - 0s 702us/step\n",
            "65\n",
            "338/338 [==============================] - 0s 694us/step\n",
            "66\n",
            "338/338 [==============================] - 0s 700us/step\n",
            "67\n",
            "338/338 [==============================] - 0s 693us/step\n",
            "68\n",
            "338/338 [==============================] - 0s 688us/step\n",
            "69\n",
            "338/338 [==============================] - 0s 691us/step\n",
            "70\n",
            "338/338 [==============================] - 0s 700us/step\n",
            "71\n",
            "338/338 [==============================] - 0s 804us/step\n",
            "72\n",
            "338/338 [==============================] - 0s 694us/step\n",
            "73\n",
            "338/338 [==============================] - 0s 697us/step\n",
            "74\n",
            "338/338 [==============================] - 0s 693us/step\n",
            "75\n",
            "338/338 [==============================] - 0s 694us/step\n",
            "76\n",
            "338/338 [==============================] - 0s 697us/step\n",
            "77\n",
            "338/338 [==============================] - 0s 724us/step\n",
            "78\n",
            "338/338 [==============================] - 0s 696us/step\n",
            "79\n",
            "338/338 [==============================] - 0s 694us/step\n",
            "80\n",
            "338/338 [==============================] - 0s 703us/step\n",
            "81\n",
            "338/338 [==============================] - 0s 694us/step\n",
            "82\n",
            "338/338 [==============================] - 0s 709us/step\n",
            "83\n",
            "338/338 [==============================] - 0s 700us/step\n",
            "84\n",
            "338/338 [==============================] - 0s 926us/step\n",
            "85\n",
            "338/338 [==============================] - 0s 697us/step\n",
            "86\n",
            "338/338 [==============================] - 0s 804us/step\n",
            "87\n",
            "338/338 [==============================] - 0s 694us/step\n",
            "88\n",
            "338/338 [==============================] - 0s 806us/step\n",
            "89\n",
            "338/338 [==============================] - 0s 697us/step\n",
            "90\n",
            "338/338 [==============================] - 0s 688us/step\n",
            "91\n",
            "338/338 [==============================] - 0s 703us/step\n",
            "92\n",
            "338/338 [==============================] - 0s 700us/step\n",
            "93\n",
            "338/338 [==============================] - 0s 718us/step\n",
            "94\n",
            "338/338 [==============================] - 0s 712us/step\n",
            "95\n",
            "338/338 [==============================] - 0s 717us/step\n",
            "96\n",
            "338/338 [==============================] - 0s 685us/step\n",
            "97\n",
            "338/338 [==============================] - 0s 694us/step\n",
            "98\n",
            "338/338 [==============================] - 0s 706us/step\n",
            "99\n",
            "338/338 [==============================] - 0s 690us/step\n",
            "100\n",
            "338/338 [==============================] - 0s 691us/step\n"
          ]
        }
      ],
      "source": [
        "# Funções para teste\n",
        "\n",
        "neuronios = [10, 20, 30, 40, 50, 60, 70, 80, 90, 100]\n",
        "\n",
        "# Metricas avaliadas\n",
        "mse_values_mlp_n = {neuronios[i]: [] for i in range(0, len(neuronios))}\n",
        "mse_mlp_n = {neuronios[i]: [] for i in range(0, len(neuronios))}\n",
        "rmse_mlp_n = {neuronios[i]: [] for i in range(0, len(neuronios))}\n",
        "mae_mlp_n = {neuronios[i]: [] for i in range(0, len(neuronios))}\n",
        "r2_mlp_n = {neuronios[i]: [] for i in range(0, len(neuronios))}\n",
        "time_mlp_n = {neuronios[i]: [] for i in range(0, len(neuronios))}\n",
        "\n",
        "count = 1\n",
        "\n",
        "for i in neuronios:\n",
        "  for j in range(10):\n",
        "    print(count)\n",
        "    count += 1\n",
        "    # defining the model\n",
        "    model = tf.keras.Sequential([\n",
        "        tf.keras.layers.Dense(units=i, activation=functions[tmp_2.index(min(tmp_2))]), # hidden layer\n",
        "        tf.keras.layers.Dense(units=1, activation=functions[tmp_2.index(min(tmp_2))]) # output layer\n",
        "    ])\n",
        "\n",
        "    # hyperparameters\n",
        "    learning_rate = 0.01\n",
        "    optimizer = tf.keras.optimizers.SGD(learning_rate=learning_rate)\n",
        "    loss_function = 'mean_squared_error'\n",
        "    model.compile(optimizer=optimizer,\n",
        "                loss=loss_function)\n",
        "\n",
        "    # training\n",
        "    num_epochs = 50\n",
        "    batch_size = 32\n",
        "\n",
        "    start_time_mlp = time.time()\n",
        "\n",
        "    history = model.fit(X_train,\n",
        "                        y_train,\n",
        "                        epochs=num_epochs,\n",
        "                        batch_size=None,\n",
        "                        verbose=0)\n",
        "\n",
        "    end_time_mlp = time.time()\n",
        "\n",
        "\n",
        "\n",
        "    # predictions\n",
        "    y_pred = model.predict(X_test)\n",
        "\n",
        "    # evaluation\n",
        "    mse_mlp_n[i].append(mean_squared_error(y_test, y_pred))\n",
        "    rmse_mlp_n[i].append(np.sqrt(mean_squared_error(y_test, y_pred)))\n",
        "    mae_mlp_n[i].append(mean_absolute_error(y_test, y_pred))\n",
        "    r2_mlp_n[i].append(r2_score(y_test, y_pred))\n",
        "\n",
        "\n",
        "    # getting MSE value for each epoch\n",
        "    mse_values_mlp_n[i].append(history.history['loss'])\n",
        "\n",
        "    # Run time\n",
        "    time_mlp_n[i].append(end_time_mlp - start_time_mlp)"
      ]
    },
    {
      "cell_type": "code",
      "execution_count": 108,
      "id": "1E5-53kyPoII",
      "metadata": {
        "colab": {
          "base_uri": "https://localhost:8080/",
          "height": 245
        },
        "id": "1E5-53kyPoII",
        "outputId": "f3db3859-f972-4763-d7aa-3a57b5bc8b9d"
      },
      "outputs": [],
      "source": [
        "os.makedirs('results/mlp/neurons', exist_ok=True)\n",
        "\n",
        "mse_values_mlp_data_n = pd.DataFrame.from_dict(mse_values_mlp_n)\n",
        "mse_values_mlp_data_n.head()\n",
        "mse_values_mlp_data_n.to_csv('results/mlp/neurons/mse_values.csv')\n",
        "\n",
        "mse_mlp_data_n = pd.DataFrame.from_dict(mse_mlp_n)\n",
        "mse_mlp_data_n.head()\n",
        "mse_mlp_data_n.to_csv('results/mlp/neurons/mse.csv')\n",
        "\n",
        "rmse_mlp_data_n = pd.DataFrame.from_dict(rmse_mlp_n)\n",
        "rmse_mlp_data_n.head()\n",
        "rmse_mlp_data_n.to_csv('results/mlp/neurons/rmse.csv')\n",
        "\n",
        "mae_mlp_data_n = pd.DataFrame.from_dict(mae_mlp_n)\n",
        "mae_mlp_data_n.head()\n",
        "mae_mlp_data_n.to_csv('results/mlp/neurons/mae.csv')\n",
        "\n",
        "r2_mlp_data_n = pd.DataFrame.from_dict(r2_mlp_n)\n",
        "r2_mlp_data_n.head()\n",
        "r2_mlp_data_n.to_csv('results/mlp/neurons/r2.csv')\n",
        "\n",
        "time_mlp_data_n = pd.DataFrame.from_dict(time_mlp_n)\n",
        "time_mlp_data_n.head()\n",
        "time_mlp_data_n.to_csv('results/mlp/neurons/time.csv')"
      ]
    },
    {
      "cell_type": "code",
      "execution_count": 109,
      "id": "0ydgfEOH1RPA",
      "metadata": {
        "colab": {
          "base_uri": "https://localhost:8080/",
          "height": 245
        },
        "id": "0ydgfEOH1RPA",
        "outputId": "4795d3f4-d62f-4785-863a-c45fe6216885"
      },
      "outputs": [
        {
          "name": "stdout",
          "output_type": "stream",
          "text": [
            "Maior MSE Values: 0.14031168818473816 função (10)\n",
            "Maior MSE Values: 0.13255108892917633 função (20)\n",
            "Maior MSE Values: 0.128510519862175 função (30)\n",
            "Maior MSE Values: 0.1258688122034073 função (40)\n",
            "Maior MSE Values: 0.12493011355400085 função (50)\n",
            "Maior MSE Values: 0.12410226464271545 função (60)\n",
            "Maior MSE Values: 0.12327706068754196 função (70)\n",
            "Maior MSE Values: 0.1233244314789772 função (80)\n",
            "Maior MSE Values: 0.12229949980974197 função (90)\n",
            "Maior MSE Values: 0.1217673197388649 função (100)\n",
            "============================================================\n",
            "Menor MSE: 0.1517484847034012 função (10)\n",
            "Menor MSE: 0.14552651080367854 função (20)\n",
            "Menor MSE: 0.14204848291185668 função (30)\n",
            "Menor MSE: 0.1409194527084563 função (40)\n",
            "Menor MSE: 0.13879416043155182 função (50)\n",
            "Menor MSE: 0.13836723891610578 função (60)\n",
            "Menor MSE: 0.13714679718612263 função (70)\n",
            "Menor MSE: 0.13802035362893242 função (80)\n",
            "Menor MSE: 0.13661249282338722 função (90)\n",
            "Menor MSE: 0.13624637431529293 função (100)\n",
            "============================================================\n",
            "Menor RMSE: 0.38954907868380484 função (10)\n",
            "Menor RMSE: 0.38147937139992055 função (20)\n",
            "Menor RMSE: 0.3768931982828248 função (30)\n",
            "Menor RMSE: 0.37539239830936416 função (40)\n",
            "Menor RMSE: 0.3725508830100283 função (50)\n",
            "Menor RMSE: 0.3719774709792325 função (60)\n",
            "Menor RMSE: 0.37033335953721835 função (70)\n",
            "Menor RMSE: 0.3715109064737298 função (80)\n",
            "Menor RMSE: 0.3696112725870076 função (90)\n",
            "Menor RMSE: 0.36911566522608186 função (100)\n",
            "============================================================\n",
            "Menor MAE: 0.2522393847990661 função (10)\n",
            "Menor MAE: 0.24342951271623411 função (20)\n",
            "Menor MAE: 0.23874725210587514 função (30)\n",
            "Menor MAE: 0.2354293630755807 função (40)\n",
            "Menor MAE: 0.23283319521640547 função (50)\n",
            "Menor MAE: 0.23122709318348328 função (60)\n",
            "Menor MAE: 0.2291074723747739 função (70)\n",
            "Menor MAE: 0.22986892015264823 função (80)\n",
            "Menor MAE: 0.22950283709093955 função (90)\n",
            "Menor MAE: 0.22721998312346903 função (100)\n",
            "============================================================\n",
            "Maior R²: 0.8496111654505593 função (10)\n",
            "Maior R²: 0.8557773911311992 função (20)\n",
            "Maior R²: 0.8592242562659904 função (30)\n",
            "Maior R²: 0.8603431704798119 função (40)\n",
            "Maior R²: 0.8624494203657682 função (50)\n",
            "Maior R²: 0.8628725167102061 função (60)\n",
            "Maior R²: 0.8640820234131324 função (70)\n",
            "Maior R²: 0.8632162939423962 função (80)\n",
            "Maior R²: 0.8646115404660606 função (90)\n",
            "Maior R²: 0.864974378591574 função (100)\n",
            "============================================================\n",
            "Time: 29.35243511199951 função (10)\n",
            "Time: 28.96589994430542 função (20)\n",
            "Time: 27.71010661125183 função (30)\n",
            "Time: 27.562077522277832 função (40)\n",
            "Time: 27.555624961853027 função (50)\n",
            "Time: 27.571000337600708 função (60)\n",
            "Time: 27.872981786727905 função (70)\n",
            "Time: 27.732023000717163 função (80)\n",
            "Time: 27.781314849853516 função (90)\n",
            "Time: 28.037220239639282 função (100)\n"
          ]
        }
      ],
      "source": [
        "for u in neuronios:\n",
        "    print(f'Maior MSE Values: {min([min(v) for v in mse_values_mlp_n[u]])} função ({u})')\n",
        "print(\"============================================================\")\n",
        "for u in neuronios:\n",
        "    print(f'Menor MSE: {min(mse_mlp_n[u])} função ({u})')\n",
        "print(\"============================================================\")\n",
        "for u in neuronios:\n",
        "    print(f'Menor RMSE: {min(rmse_mlp_n[u])} função ({u})')\n",
        "print(\"============================================================\")\n",
        "for u in neuronios:\n",
        "    print(f'Menor MAE: {min(mae_mlp_n[u])} função ({u})')\n",
        "print(\"============================================================\")\n",
        "for u in neuronios:\n",
        "    print(f'Maior R²: {max(r2_mlp_n[u])} função ({u})')\n",
        "print(\"============================================================\")\n",
        "for u in neuronios:\n",
        "    print(f'Time: {min(time_mlp_n[u])} função ({u})')"
      ]
    },
    {
      "cell_type": "code",
      "execution_count": 110,
      "id": "BTZO2i_QSyfz",
      "metadata": {
        "colab": {
          "base_uri": "https://localhost:8080/"
        },
        "id": "BTZO2i_QSyfz",
        "outputId": "32125a28-afa6-4ff0-bbbc-fdc52281b4d3"
      },
      "outputs": [
        {
          "name": "stdout",
          "output_type": "stream",
          "text": [
            "Melhor topologia: 90 com valor do MSE: 0.12229949980974197\n"
          ]
        }
      ],
      "source": [
        "# Pegar menor valor e definir qual foi a melhor topologia\n",
        "\n",
        "tmp_1_n = [min(valores) for valores in mse_values_mlp_n.values()]\n",
        "tmp_2_n = [min(valores) for valores in tmp_1_n]\n",
        "\n",
        "print(f'Melhor topologia: {neuronios[tmp_2_n.index(min(tmp_2_n))]} com valor do MSE: {min(tmp_2_n)}')"
      ]
    },
    {
      "cell_type": "code",
      "execution_count": 111,
      "id": "S4UDb7vHFwol",
      "metadata": {
        "colab": {
          "base_uri": "https://localhost:8080/"
        },
        "id": "S4UDb7vHFwol",
        "outputId": "9d4b8f16-a986-49da-caa2-87fef26007bf"
      },
      "outputs": [
        {
          "name": "stdout",
          "output_type": "stream",
          "text": [
            "50\n"
          ]
        }
      ],
      "source": [
        "print(len(mse_values_mlp_n[10][0]))"
      ]
    },
    {
      "cell_type": "code",
      "execution_count": 112,
      "id": "ayw9CZ5hByXY",
      "metadata": {
        "colab": {
          "base_uri": "https://localhost:8080/",
          "height": 336
        },
        "id": "ayw9CZ5hByXY",
        "outputId": "dfef89fd-a855-44fd-ccd2-eabbef52b717"
      },
      "outputs": [
        {
          "data": {
            "image/png": "[encoded data removed]",
            "text/plain": [
              "<Figure size 600x300 with 1 Axes>"
            ]
          },
          "metadata": {},
          "output_type": "display_data"
        }
      ],
      "source": [
        "# getting MSE value for each epoch\n",
        "plt.figure(figsize=(6, 3))\n",
        "\n",
        "x = range(1, len(mse_values_mlp_n[10][0]) + 1)\n",
        "\n",
        "y1 = mse_values_mlp_n[10][0]\n",
        "y2 = mse_values_mlp_n[20][0]\n",
        "y3 = mse_values_mlp_n[30][0]\n",
        "y4 = mse_values_mlp_n[40][0]\n",
        "y5 = mse_values_mlp_n[50][0]\n",
        "y6 = mse_values_mlp_n[60][0]\n",
        "y7 = mse_values_mlp_n[70][0]\n",
        "y8 = mse_values_mlp_n[80][0]\n",
        "y9 = mse_values_mlp_n[90][0]\n",
        "y10 = mse_values_mlp_n[100][0]\n",
        "\n",
        "\n",
        "plt.plot(x, y1, label='10', marker='+', color='yellow')\n",
        "plt.plot(x, y2, label='20', marker='+', color='blue')\n",
        "plt.plot(x, y3, label='30', marker='+', color='brown')\n",
        "plt.plot(x, y4, label='40', marker='+', color='purple')\n",
        "plt.plot(x, y5, label='50', marker='+', color='black')\n",
        "plt.plot(x, y6, label='60', marker='+', color='green')\n",
        "plt.plot(x, y7, label='70', marker='+', color='pink')\n",
        "plt.plot(x, y8, label='80', marker='+', color='red')\n",
        "plt.plot(x, y9, label='90', marker='+', color='cyan')\n",
        "plt.plot(x, y10, label='100', marker='+', color='gray')\n",
        "\n",
        "\n",
        "plt.legend()\n",
        "\n",
        "plt.xlabel('Época')\n",
        "plt.ylabel('MSE')\n",
        "\n",
        "\n",
        "\n",
        "plt.title('Mean Squared Error (MSE) por Neurônios')\n",
        "plt.grid(True)\n",
        "plt.show()"
      ]
    },
    {
      "cell_type": "code",
      "execution_count": 113,
      "metadata": {},
      "outputs": [
        {
          "name": "stdout",
          "output_type": "stream",
          "text": [
            "[29.35243511199951, 28.96589994430542, 27.71010661125183, 27.562077522277832, 27.555624961853027, 27.571000337600708, 27.872981786727905, 27.732023000717163, 27.781314849853516, 28.037220239639282]\n"
          ]
        }
      ],
      "source": [
        "print([min(values) for values in time_mlp_n.values()])"
      ]
    },
    {
      "cell_type": "code",
      "execution_count": 114,
      "id": "uZtkjb7X7C9x",
      "metadata": {
        "id": "uZtkjb7X7C9x"
      },
      "outputs": [
        {
          "data": {
            "image/png": "[encoded data removed]",
            "text/plain": [
              "<Figure size 600x300 with 1 Axes>"
            ]
          },
          "metadata": {},
          "output_type": "display_data"
        }
      ],
      "source": [
        "plt.figure(figsize=(6, 3))\n",
        "\n",
        "time_mlp_min_n = [min(values) for values in time_mlp_n.values()]\n",
        "\n",
        "plt.bar(neuronios, time_mlp_min_n, color='blue')\n",
        "\n",
        "plt.xlabel('Funções')\n",
        "plt.ylabel('Tempo (s)')\n",
        "plt.title('Tempo por Função de Ativação')\n",
        "# plt.ylim(75, 150)\n",
        "\n",
        "plt.show()"
      ]
    },
    {
      "cell_type": "markdown",
      "id": "67ded64b-8155-40bf-bd96-f9db6ff65479",
      "metadata": {
        "id": "67ded64b-8155-40bf-bd96-f9db6ff65479"
      },
      "source": [
        "### **Radial Base Function - RBF**"
      ]
    },
    {
      "cell_type": "code",
      "execution_count": 115,
      "id": "co3eUMIAa6K2",
      "metadata": {
        "id": "co3eUMIAa6K2"
      },
      "outputs": [],
      "source": [
        "from tensorflow.keras import backend as K\n",
        "\n",
        "#\n",
        "class RBFLayer(tf.keras.layers.Layer):\n",
        "    def __init__(self, units, gamma, **kwargs):\n",
        "        super(RBFLayer, self).__init__(**kwargs)\n",
        "        self.units = units\n",
        "        self.gamma = K.cast_to_floatx(gamma)\n",
        "\n",
        "    def build(self, input_shape):\n",
        "        # print(input_shape)\n",
        "        # print(self.units)\n",
        "        self.mu = self.add_weight(name='mu',\n",
        "                                  shape=(int(input_shape[1]), self.units),\n",
        "                                  initializer='uniform',\n",
        "                                  trainable=True)\n",
        "        super(RBFLayer, self).build(input_shape)\n",
        "\n",
        "    def call(self, inputs):\n",
        "        diff = K.expand_dims(inputs) - self.mu\n",
        "        l2 = K.sum(K.pow(diff, 2), axis=1)\n",
        "        res = K.exp(-1 * self.gamma * l2)\n",
        "        return res\n",
        "\n",
        "    def compute_output_shape(self, input_shape):\n",
        "        return (input_shape[0], self.units)"
      ]
    },
    {
      "cell_type": "code",
      "execution_count": 51,
      "id": "bc9638d0-20de-4b7d-9502-27784348b445",
      "metadata": {
        "id": "bc9638d0-20de-4b7d-9502-27784348b445"
      },
      "outputs": [],
      "source": [
        "# hyperparameters\n",
        "gamma = [1, 0.1, 0.5, 0.01, 0.05, 0.001, 0.005]\n",
        "units = [1.3, 1.2, 1.1, 1, 0.9, 0.8, 0.7]\n",
        "\n",
        "# evaluation metrics\n",
        "mse_values_rbf = {units[i]: [] for i in range(0, len(units))}\n",
        "mse_rbf = {units[i]: [] for i in range(0, len(units))}\n",
        "rmse_rbf = {units[i]: [] for i in range(0, len(units))}\n",
        "mae_rbf = {units[i]: [] for i in range(0, len(units))}\n",
        "r2_rbf = {units[i]: [] for i in range(0, len(units))}"
      ]
    },
    {
      "cell_type": "code",
      "execution_count": 52,
      "id": "e22ac0bd-e0fc-49a8-955d-1ef55ea01ca2",
      "metadata": {
        "id": "e22ac0bd-e0fc-49a8-955d-1ef55ea01ca2"
      },
      "outputs": [
        {
          "name": "stdout",
          "output_type": "stream",
          "text": [
            "WARNING:tensorflow:From e:\\ICA\\env\\Lib\\site-packages\\keras\\src\\optimizers\\__init__.py:309: The name tf.train.Optimizer is deprecated. Please use tf.compat.v1.train.Optimizer instead.\n",
            "\n",
            "338/338 [==============================] - 0s 1ms/step\n",
            "338/338 [==============================] - 0s 1ms/step\n",
            "338/338 [==============================] - 1s 1ms/step\n",
            "338/338 [==============================] - 0s 1ms/step\n",
            "338/338 [==============================] - 0s 1ms/step\n",
            "338/338 [==============================] - 0s 1ms/step\n",
            "338/338 [==============================] - 0s 1ms/step\n",
            "338/338 [==============================] - 0s 1ms/step\n",
            "338/338 [==============================] - 0s 1ms/step\n",
            "338/338 [==============================] - 0s 1ms/step\n",
            "338/338 [==============================] - 0s 1ms/step\n",
            "338/338 [==============================] - 0s 1ms/step\n",
            "338/338 [==============================] - 0s 1ms/step\n",
            "338/338 [==============================] - 0s 1ms/step\n",
            "338/338 [==============================] - 0s 1ms/step\n",
            "338/338 [==============================] - 0s 1ms/step\n",
            "338/338 [==============================] - 0s 1ms/step\n",
            "338/338 [==============================] - 0s 1ms/step\n",
            "338/338 [==============================] - 1s 1ms/step\n",
            "338/338 [==============================] - 0s 1ms/step\n",
            "338/338 [==============================] - 0s 947us/step\n",
            "338/338 [==============================] - 0s 1ms/step\n",
            "338/338 [==============================] - 0s 1ms/step\n",
            "338/338 [==============================] - 0s 1ms/step\n",
            "338/338 [==============================] - 0s 1ms/step\n",
            "338/338 [==============================] - 0s 957us/step\n",
            "338/338 [==============================] - 0s 955us/step\n",
            "338/338 [==============================] - 0s 1ms/step\n",
            "338/338 [==============================] - 0s 992us/step\n",
            "338/338 [==============================] - 0s 987us/step\n",
            "338/338 [==============================] - 0s 979us/step\n",
            "338/338 [==============================] - 0s 1ms/step\n",
            "338/338 [==============================] - 0s 1ms/step\n",
            "338/338 [==============================] - 0s 1ms/step\n",
            "338/338 [==============================] - 0s 1ms/step\n",
            "338/338 [==============================] - 0s 1ms/step\n",
            "338/338 [==============================] - 0s 957us/step\n",
            "338/338 [==============================] - 0s 981us/step\n",
            "338/338 [==============================] - 0s 965us/step\n",
            "338/338 [==============================] - 0s 972us/step\n",
            "338/338 [==============================] - 0s 968us/step\n",
            "338/338 [==============================] - 0s 972us/step\n",
            "338/338 [==============================] - 0s 972us/step\n",
            "338/338 [==============================] - 0s 944us/step\n",
            "338/338 [==============================] - 0s 961us/step\n",
            "338/338 [==============================] - 0s 961us/step\n",
            "338/338 [==============================] - 0s 957us/step\n",
            "338/338 [==============================] - 0s 974us/step\n",
            "338/338 [==============================] - 0s 975us/step\n"
          ]
        }
      ],
      "source": [
        "# hyperparameters\n",
        "gamma = [1, 0.1, 0.5, 0.01, 0.05, 0.001, 0.005]\n",
        "units = [1.3, 1.2, 1.1, 1, 0.9, 0.8, 0.7]\n",
        "\n",
        "# evaluation metrics\n",
        "mse_values_rbf = {units[i]: [] for i in range(0, len(units))}\n",
        "mse_rbf = {units[i]: [] for i in range(0, len(units))}\n",
        "rmse_rbf = {units[i]: [] for i in range(0, len(units))}\n",
        "mae_rbf = {units[i]: [] for i in range(0, len(units))}\n",
        "r2_rbf = {units[i]: [] for i in range(0, len(units))}\n",
        "time_rbf = {units[i]: [] for i in range(0, len(units))}\n",
        "\n",
        "for u in units:\n",
        "  for g in gamma:\n",
        "    # defining the model\n",
        "    modelRBF = tf.keras.Sequential()\n",
        "    modelRBF.add(tf.keras.Input(shape=(X_test.shape[1],)))\n",
        "    modelRBF.add(RBFLayer(round(X_test.shape[1] * u), g))\n",
        "    modelRBF.add(tf.keras.layers.Dense(units=1, activation='linear'))\n",
        "\n",
        "    modelRBF.compile(\n",
        "        loss='mean_squared_error'\n",
        "    )\n",
        "\n",
        "    # start of training time\n",
        "    start_time_rbf = time.time()\n",
        "\n",
        "    # training\n",
        "    num_epochs = 50\n",
        "    batch_size = 32\n",
        "    historyRBF = modelRBF.fit(X_train,\n",
        "                        y_train,\n",
        "                        epochs=num_epochs,\n",
        "                        batch_size=batch_size,\n",
        "                        verbose=0)\n",
        "    # end of training time\n",
        "    end_time_rbf = time.time()\n",
        "\n",
        "    # predictions\n",
        "    y_pred = modelRBF.predict(X_test)\n",
        "\n",
        "    mse_rbf_tmp = mean_squared_error(y_test, y_pred)\n",
        "    mse_rbf[u].append(mse_rbf_tmp)\n",
        "    rmse_rbf[u].append(np.sqrt(mse_rbf_tmp))\n",
        "    mae_rbf[u].append(mean_absolute_error(y_test, y_pred))\n",
        "    r2_rbf[u].append(r2_score(y_test, y_pred))\n",
        "    time_rbf[u].append(end_time_rbf - start_time_rbf)\n",
        "\n",
        "    # getting MSE value for each epoch\n",
        "    mse_values_rbf[u].append(historyRBF.history['loss'])\n"
      ]
    },
    {
      "cell_type": "code",
      "execution_count": 59,
      "id": "83cfa472-6c52-47b4-9f95-7e693ecafcf7",
      "metadata": {
        "colab": {
          "base_uri": "https://localhost:8080/",
          "height": 245
        },
        "id": "83cfa472-6c52-47b4-9f95-7e693ecafcf7",
        "outputId": "d94b46a3-a6b2-439b-f459-ec0111c8364b"
      },
      "outputs": [],
      "source": [
        "os.makedirs('results/rbf', exist_ok=True)\n",
        "\n",
        "mse_values_rbf_data = pd.DataFrame.from_dict(mse_values_rbf)\n",
        "mse_values_rbf_data.head()\n",
        "mse_values_rbf_data.to_csv('results/rbf/mse_values.csv')\n",
        "\n",
        "mse_rbf_data = pd.DataFrame.from_dict(mse_rbf)\n",
        "mse_rbf_data.head()\n",
        "mse_rbf_data.to_csv('results/rbf/mse.csv')\n",
        "\n",
        "rmse_rbf_data = pd.DataFrame.from_dict(rmse_rbf)\n",
        "rmse_rbf_data.head()\n",
        "rmse_rbf_data.to_csv('results/rbf/rmse.csv')\n",
        "\n",
        "mae_rbf_data = pd.DataFrame.from_dict(mae_rbf)\n",
        "mae_rbf_data.head()\n",
        "mae_rbf_data.to_csv('results/rbf/mae.csv')\n",
        "\n",
        "r2_rbf_data = pd.DataFrame.from_dict(r2_rbf)\n",
        "r2_rbf_data.head()\n",
        "r2_rbf_data.to_csv('results/rbf/r2.csv')\n",
        "\n",
        "time_rbf_data = pd.DataFrame.from_dict(time_rbf)\n",
        "time_rbf_data.head()\n",
        "time_rbf_data.to_csv('results/rbf/time.csv')\n",
        "\n",
        "\n",
        "# for u in units:\n",
        "#   for g_key, g_value in enumerate(gamma):\n",
        "#     print(f'MSE: {mse_rbf[u][g_key]} com {g_value} gamma e {round(X_test.shape[1] * u)} neurônios')\n",
        "# print(\"============================================================\")\n",
        "# for u in units:\n",
        "#   for g_key, g_value in enumerate(gamma):\n",
        "#     print(f'RMSE: {rmse_rbf[u][g_key]} com {g_value} gamma e {round(X_test.shape[1] * u)} neurônios')\n",
        "# print(\"============================================================\")\n",
        "# for u in units:\n",
        "#   for g_key, g_value in enumerate(gamma):\n",
        "#     print(f'MAE: {mae_rbf[u][g_key]} com {g_value} gamma e {round(X_test.shape[1] * u)} neurônios')\n",
        "# print(\"============================================================\")\n",
        "# for u in units:\n",
        "#   for g_key, g_value in enumerate(gamma):\n",
        "#     print(f'R²: {r2_rbf[u][g_key]} com {g_value} gamma e {round(X_test.shape[1] * u)} neurônios')\n",
        "# print(\"============================================================\")\n",
        "# for u in units:\n",
        "#   for g_key, g_value in enumerate(gamma):\n",
        "#     print(f'Time: {time_rbf[u][g_key]} com {g_value} gamma e {round(X_test.shape[1] * u)} neurônios')"
      ]
    },
    {
      "cell_type": "code",
      "execution_count": 56,
      "id": "cdfqYd1dsASp",
      "metadata": {
        "colab": {
          "base_uri": "https://localhost:8080/",
          "height": 245
        },
        "id": "cdfqYd1dsASp",
        "outputId": "766e9a36-ba00-41f7-b888-42208db356e8"
      },
      "outputs": [
        {
          "name": "stdout",
          "output_type": "stream",
          "text": [
            "Menor MSE: 0.08410826059009695 127 neurônios\n",
            "Menor MSE: 0.08691853034301181 118 neurônios\n",
            "Menor MSE: 0.08707944162761584 108 neurônios\n",
            "Menor MSE: 0.08194564767381568 98 neurônios\n",
            "Menor MSE: 0.0828083481399297 88 neurônios\n",
            "Menor MSE: 0.08266897706005141 78 neurônios\n",
            "Menor MSE: 0.08078390314864009 69 neurônios\n",
            "============================================================\n",
            "Menor RMSE: 0.2900142420470018 127 neurônios\n",
            "Menor RMSE: 0.2948194877259843 118 neurônios\n",
            "Menor RMSE: 0.2950922595183002 108 neurônios\n",
            "Menor RMSE: 0.2862615022559193 98 neurônios\n",
            "Menor RMSE: 0.2877643969290324 88 neurônios\n",
            "Menor RMSE: 0.28752213316552067 78 neurônios\n",
            "Menor RMSE: 0.28422509239797966 69 neurônios\n",
            "============================================================\n",
            "Menor MAE: 0.182099736966995 127 neurônios\n",
            "Menor MAE: 0.1802508103547825 118 neurônios\n",
            "Menor MAE: 0.18252778999252142 108 neurônios\n",
            "Menor MAE: 0.18242266835318108 98 neurônios\n",
            "Menor MAE: 0.1843639420149881 88 neurônios\n",
            "Menor MAE: 0.18293328304067127 78 neurônios\n",
            "Menor MAE: 0.18899148638789237 69 neurônios\n",
            "============================================================\n",
            "Maior R²: 0.9166453404075288 127 neurônios\n",
            "Maior R²: 0.9138602503703105 118 neurônios\n",
            "Maior R²: 0.9137007808335651 108 neurônios\n",
            "Maior R²: 0.9187885765439342 98 neurônios\n",
            "Maior R²: 0.9179336057815063 88 neurônios\n",
            "Maior R²: 0.9180717281114509 78 neurônios\n",
            "Maior R²: 0.9199399119627151 69 neurônios\n",
            "============================================================\n",
            "Time: 72.88699507713318 127 neurônios\n",
            "Time: 71.08091592788696 118 neurônios\n",
            "Time: 67.96556067466736 108 neurônios\n",
            "Time: 59.70704364776611 98 neurônios\n",
            "Time: 62.38510060310364 88 neurônios\n",
            "Time: 60.74500632286072 78 neurônios\n",
            "Time: 56.731356382369995 69 neurônios\n"
          ]
        }
      ],
      "source": [
        "for u in units:\n",
        "    print(f'Menor MSE: {min(mse_rbf[u])} {round(X_test.shape[1] * u)} neurônios')\n",
        "print(\"============================================================\")\n",
        "for u in units:\n",
        "    print(f'Menor RMSE: {min(rmse_rbf[u])} {round(X_test.shape[1] * u)} neurônios')\n",
        "print(\"============================================================\")\n",
        "for u in units:\n",
        "    print(f'Menor MAE: {min(mae_rbf[u])} {round(X_test.shape[1] * u)} neurônios')\n",
        "print(\"============================================================\")\n",
        "for u in units:\n",
        "    print(f'Maior R²: {max(r2_rbf[u])} {round(X_test.shape[1] * u)} neurônios')\n",
        "print(\"============================================================\")\n",
        "for u in units:\n",
        "    print(f'Time: {min(time_rbf[u])} {round(X_test.shape[1] * u)} neurônios')"
      ]
    },
    {
      "cell_type": "code",
      "execution_count": 57,
      "id": "9BvXcHv3H80n",
      "metadata": {
        "id": "9BvXcHv3H80n"
      },
      "outputs": [
        {
          "data": {
            "image/png": "[encoded data removed]",
            "text/plain": [
              "<Figure size 600x300 with 1 Axes>"
            ]
          },
          "metadata": {},
          "output_type": "display_data"
        }
      ],
      "source": [
        "# getting MSE value for each epoch\n",
        "mse_values_RBF = historyRBF.history['loss']\n",
        "\n",
        "# Plotting MSE for each epoch\n",
        "plt.figure(figsize=(6, 3))\n",
        "plt.plot(range(1, len(mse_values_RBF) + 1), mse_values_RBF, marker='+')\n",
        "plt.title('Mean Squared Error (MSE) por Época')\n",
        "plt.xlabel('Época')\n",
        "plt.ylabel('MSE')\n",
        "plt.grid(True)\n",
        "plt.show()"
      ]
    },
    {
      "cell_type": "markdown",
      "id": "nKIj7HBwBcfB",
      "metadata": {
        "id": "nKIj7HBwBcfB"
      },
      "source": [
        "### **Comparassion**"
      ]
    },
    {
      "cell_type": "code",
      "execution_count": 65,
      "metadata": {},
      "outputs": [
        {
          "name": "stdout",
          "output_type": "stream",
          "text": [
            "0.12599019706249237\n",
            "0.08601868897676468\n"
          ]
        }
      ],
      "source": [
        "mse = [min([min(i) for i in v]) for v in mse_values_mlp.values()]\n",
        "print(min(mse))\n",
        "\n",
        "mseRBF = [min([min(i) for i in v]) for v in mse_values_rbf.values()]\n",
        "print(min(mseRBF))"
      ]
    },
    {
      "cell_type": "code",
      "execution_count": 67,
      "id": "bE1sziQ7Bc1v",
      "metadata": {
        "id": "bE1sziQ7Bc1v"
      },
      "outputs": [
        {
          "data": {
            "image/png": "[encoded data removed]",
            "text/plain": [
              "<Figure size 600x300 with 1 Axes>"
            ]
          },
          "metadata": {},
          "output_type": "display_data"
        }
      ],
      "source": [
        "# plotting results\n",
        "\n",
        "# Dados para o gráfico de barras\n",
        "categorias = ['MLP', 'RBF']\n",
        "valores = [min(mse), min(mseRBF)]\n",
        "\n",
        "plt.figure(figsize=(6, 3))\n",
        "# Criar um gráfico de barras\n",
        "plt.bar(categorias, valores, color='blue')\n",
        "\n",
        "# Adicionar rótulos e título\n",
        "plt.xlabel('Rede')\n",
        "plt.ylabel('Valores')\n",
        "plt.title('Resultados MSE')\n",
        "\n",
        "# Exibir o gráfico\n",
        "plt.show()"
      ]
    },
    {
      "cell_type": "code",
      "execution_count": 70,
      "metadata": {},
      "outputs": [
        {
          "name": "stdout",
          "output_type": "stream",
          "text": [
            "0.3742007257343232\n",
            "0.28422509239797966\n"
          ]
        }
      ],
      "source": [
        "rmse = [min(v) for v in rmse_mlp.values()]\n",
        "print(min(rmse))\n",
        "\n",
        "rmseRBF = [min(v) for v in rmse_rbf.values()]\n",
        "print(min(rmseRBF))"
      ]
    },
    {
      "cell_type": "code",
      "execution_count": 71,
      "id": "HwWyDfEWB0h2",
      "metadata": {
        "id": "HwWyDfEWB0h2"
      },
      "outputs": [
        {
          "data": {
            "image/png": "[encoded data removed]",
            "text/plain": [
              "<Figure size 600x300 with 1 Axes>"
            ]
          },
          "metadata": {},
          "output_type": "display_data"
        }
      ],
      "source": [
        "# plotting results\n",
        "\n",
        "# Dados para o gráfico de barras\n",
        "categorias = ['MLP', 'RBF']\n",
        "valores = [min(rmse), min(rmseRBF)]\n",
        "\n",
        "plt.figure(figsize=(6, 3))\n",
        "# Criar um gráfico de barras\n",
        "plt.bar(categorias, valores, color='blue')\n",
        "\n",
        "# Adicionar rótulos e título\n",
        "plt.xlabel('Rede')\n",
        "plt.ylabel('Valores')\n",
        "plt.title('Resultados RMSE')\n",
        "\n",
        "# Exibir o gráfico\n",
        "plt.show()"
      ]
    },
    {
      "cell_type": "code",
      "execution_count": 72,
      "metadata": {},
      "outputs": [
        {
          "name": "stdout",
          "output_type": "stream",
          "text": [
            "0.23446248171360684\n",
            "0.1802508103547825\n"
          ]
        }
      ],
      "source": [
        "mae = [min(v) for v in mae_mlp.values()]\n",
        "print(min(mae))\n",
        "\n",
        "maeRBF = [min(v) for v in mae_rbf.values()]\n",
        "print(min(maeRBF))"
      ]
    },
    {
      "cell_type": "code",
      "execution_count": 73,
      "id": "06ZPKN-wB4by",
      "metadata": {
        "id": "06ZPKN-wB4by"
      },
      "outputs": [
        {
          "data": {
            "image/png": "[encoded data removed]",
            "text/plain": [
              "<Figure size 600x300 with 1 Axes>"
            ]
          },
          "metadata": {},
          "output_type": "display_data"
        }
      ],
      "source": [
        "# plotting results\n",
        "\n",
        "# Dados para o gráfico de barras\n",
        "categorias = ['MLP', 'RBF']\n",
        "valores = [min(mae), min(maeRBF)]\n",
        "\n",
        "plt.figure(figsize=(6, 3))\n",
        "# Criar um gráfico de barras\n",
        "plt.bar(categorias, valores, color='blue')\n",
        "\n",
        "# Adicionar rótulos e título\n",
        "plt.xlabel('Rede')\n",
        "plt.ylabel('Valores')\n",
        "plt.title('Resultados MAE')\n",
        "\n",
        "# Exibir o gráfico\n",
        "plt.show()"
      ]
    },
    {
      "cell_type": "code",
      "execution_count": 92,
      "metadata": {},
      "outputs": [
        {
          "name": "stdout",
          "output_type": "stream",
          "text": [
            "0.861228436448609\n",
            "0.9199399119627151\n"
          ]
        }
      ],
      "source": [
        "r2 = max([max(v) for v in r2_mlp.values()])\n",
        "print(r2)\n",
        "\n",
        "r2RBF = max([max(v) for v in r2_rbf.values()])\n",
        "print(r2RBF)"
      ]
    },
    {
      "cell_type": "code",
      "execution_count": 95,
      "id": "rVHwimZ5B8nG",
      "metadata": {
        "id": "rVHwimZ5B8nG"
      },
      "outputs": [
        {
          "data": {
            "image/png": "[encoded data removed]",
            "text/plain": [
              "<Figure size 600x300 with 1 Axes>"
            ]
          },
          "metadata": {},
          "output_type": "display_data"
        }
      ],
      "source": [
        "# plotting results\n",
        "\n",
        "# Dados para o gráfico de barras\n",
        "categorias = ['MLP', 'RBF']\n",
        "valores = [r2, r2RBF]\n",
        "\n",
        "plt.figure(figsize=(6, 3))\n",
        "# Criar um gráfico de barras\n",
        "plt.bar(categorias, valores, color='blue')\n",
        "\n",
        "# Adicionar rótulos e título\n",
        "plt.xlabel('Rede')\n",
        "plt.ylabel('Valores')\n",
        "plt.title('Resultados R²')\n",
        "plt.ylim(0.5, 1)\n",
        "\n",
        "# Exibir o gráfico\n",
        "plt.show()"
      ]
    },
    {
      "cell_type": "code",
      "execution_count": 88,
      "metadata": {},
      "outputs": [
        {
          "name": "stdout",
          "output_type": "stream",
          "text": [
            "26.94819474220276\n",
            "56.731356382369995\n"
          ]
        }
      ],
      "source": [
        "timeMLP = min([min(v) for v in time_mlp.values()])\n",
        "print(timeMLP)\n",
        "\n",
        "timeRBF = min([min(v) for v in time_rbf.values()])\n",
        "print(timeRBF)"
      ]
    },
    {
      "cell_type": "code",
      "execution_count": 116,
      "id": "ZCW5TUr0CTi0",
      "metadata": {
        "id": "ZCW5TUr0CTi0"
      },
      "outputs": [
        {
          "data": {
            "image/png": "[encoded data removed]",
            "text/plain": [
              "<Figure size 600x300 with 1 Axes>"
            ]
          },
          "metadata": {},
          "output_type": "display_data"
        }
      ],
      "source": [
        "# plotting results\n",
        "\n",
        "# Dados para o gráfico de barras\n",
        "categorias = ['MLP', 'RBF']\n",
        "valores = [timeMLP, timeRBF]\n",
        "\n",
        "plt.figure(figsize=(6, 3))\n",
        "# Criar um gráfico de barras\n",
        "plt.bar(categorias, valores, color='blue')\n",
        "\n",
        "# Adicionar rótulos e título\n",
        "plt.xlabel('Rede')\n",
        "plt.ylabel('Tempo (s)')\n",
        "plt.title('Tempo de Execução')\n",
        "plt.ylim(20, 60)\n",
        "\n",
        "# Exibir o gráfico\n",
        "plt.show()"
      ]
    },
    {
      "cell_type": "code",
      "execution_count": null,
      "id": "FR9PiUtWFWgL",
      "metadata": {
        "id": "FR9PiUtWFWgL"
      },
      "outputs": [],
      "source": []
    }
  ],
  "metadata": {
    "colab": {
      "provenance": []
    },
    "kernelspec": {
      "display_name": "Python 3",
      "name": "python3"
    },
    "language_info": {
      "codemirror_mode": {
        "name": "ipython",
        "version": 3
      },
      "file_extension": ".py",
      "mimetype": "text/x-python",
      "name": "python",
      "nbconvert_exporter": "python",
      "pygments_lexer": "ipython3",
      "version": "3.11.6"
    }
  },
  "nbformat": 4,
  "nbformat_minor": 5
}
